{
 "cells": [
  {
   "cell_type": "code",
   "execution_count": 1,
   "metadata": {},
   "outputs": [
    {
     "name": "stderr",
     "output_type": "stream",
     "text": [
      "Using TensorFlow backend.\n"
     ]
    },
    {
     "data": {
      "text/plain": [
       "'----------------------------------'"
      ]
     },
     "execution_count": 1,
     "metadata": {},
     "output_type": "execute_result"
    }
   ],
   "source": [
    "\"------for the data--------------\"\n",
    "import pandas as pd\n",
    "df=pd.read_csv('titanic_all_numeric.csv')\n",
    "\n",
    "\n",
    "predictors=df.drop('survived',axis=1).values\n",
    "n_cols=predictors.shape[1]\n",
    "\n",
    "from for_the_data import pred_data as pred_data     # This pred_data contains the data whose prediction is required\n",
    "\n",
    "from keras.utils import to_categorical\n",
    "\n",
    "# Convert the target to categorical: target\n",
    "target = to_categorical(df.survived)\n",
    "\n",
    "\"----------------------------------\""
   ]
  },
  {
   "cell_type": "code",
   "execution_count": 2,
   "metadata": {},
   "outputs": [
    {
     "name": "stdout",
     "output_type": "stream",
     "text": [
      "WARNING:tensorflow:From C:\\Users\\mytufail\\AppData\\Local\\Continuum\\anaconda3\\lib\\site-packages\\keras\\backend\\tensorflow_backend.py:74: The name tf.get_default_graph is deprecated. Please use tf.compat.v1.get_default_graph instead.\n",
      "\n",
      "WARNING:tensorflow:From C:\\Users\\mytufail\\AppData\\Local\\Continuum\\anaconda3\\lib\\site-packages\\keras\\backend\\tensorflow_backend.py:517: The name tf.placeholder is deprecated. Please use tf.compat.v1.placeholder instead.\n",
      "\n",
      "WARNING:tensorflow:From C:\\Users\\mytufail\\AppData\\Local\\Continuum\\anaconda3\\lib\\site-packages\\keras\\backend\\tensorflow_backend.py:4138: The name tf.random_uniform is deprecated. Please use tf.random.uniform instead.\n",
      "\n",
      "WARNING:tensorflow:From C:\\Users\\mytufail\\AppData\\Local\\Continuum\\anaconda3\\lib\\site-packages\\keras\\optimizers.py:790: The name tf.train.Optimizer is deprecated. Please use tf.compat.v1.train.Optimizer instead.\n",
      "\n",
      "WARNING:tensorflow:From C:\\Users\\mytufail\\AppData\\Local\\Continuum\\anaconda3\\lib\\site-packages\\keras\\backend\\tensorflow_backend.py:3295: The name tf.log is deprecated. Please use tf.math.log instead.\n",
      "\n"
     ]
    }
   ],
   "source": [
    "# Import necessary modules\n",
    "\n",
    "from keras.layers import Dense\n",
    "from keras.models import Sequential\n",
    "\n",
    "\n",
    "\n",
    "# Specify, compile, and fit the model\n",
    "model = Sequential()\n",
    "model.add(Dense(32, activation='relu', input_shape = (n_cols,)))\n",
    "model.add(Dense(2, activation='softmax'))\n",
    "model.compile(optimizer='sgd',                   # sgd is Stochastic Gradient Descent optmiser\n",
    "              loss='categorical_crossentropy', \n",
    "              metrics=['accuracy'])\n"
   ]
  },
  {
   "cell_type": "code",
   "execution_count": 3,
   "metadata": {},
   "outputs": [
    {
     "name": "stdout",
     "output_type": "stream",
     "text": [
      "WARNING:tensorflow:From C:\\Users\\mytufail\\AppData\\Local\\Continuum\\anaconda3\\lib\\site-packages\\tensorflow_core\\python\\ops\\math_grad.py:1424: where (from tensorflow.python.ops.array_ops) is deprecated and will be removed in a future version.\n",
      "Instructions for updating:\n",
      "Use tf.where in 2.0, which has the same broadcast rule as np.where\n",
      "WARNING:tensorflow:From C:\\Users\\mytufail\\AppData\\Local\\Continuum\\anaconda3\\lib\\site-packages\\keras\\backend\\tensorflow_backend.py:986: The name tf.assign_add is deprecated. Please use tf.compat.v1.assign_add instead.\n",
      "\n",
      "WARNING:tensorflow:From C:\\Users\\mytufail\\AppData\\Local\\Continuum\\anaconda3\\lib\\site-packages\\keras\\backend\\tensorflow_backend.py:973: The name tf.assign is deprecated. Please use tf.compat.v1.assign instead.\n",
      "\n",
      "WARNING:tensorflow:From C:\\Users\\mytufail\\AppData\\Local\\Continuum\\anaconda3\\lib\\site-packages\\keras\\backend\\tensorflow_backend.py:2741: The name tf.Session is deprecated. Please use tf.compat.v1.Session instead.\n",
      "\n",
      "Epoch 1/1\n",
      "WARNING:tensorflow:From C:\\Users\\mytufail\\AppData\\Local\\Continuum\\anaconda3\\lib\\site-packages\\keras\\backend\\tensorflow_backend.py:174: The name tf.get_default_session is deprecated. Please use tf.compat.v1.get_default_session instead.\n",
      "\n",
      "WARNING:tensorflow:From C:\\Users\\mytufail\\AppData\\Local\\Continuum\\anaconda3\\lib\\site-packages\\keras\\backend\\tensorflow_backend.py:181: The name tf.ConfigProto is deprecated. Please use tf.compat.v1.ConfigProto instead.\n",
      "\n",
      "WARNING:tensorflow:From C:\\Users\\mytufail\\AppData\\Local\\Continuum\\anaconda3\\lib\\site-packages\\keras\\backend\\tensorflow_backend.py:190: The name tf.global_variables is deprecated. Please use tf.compat.v1.global_variables instead.\n",
      "\n",
      "WARNING:tensorflow:From C:\\Users\\mytufail\\AppData\\Local\\Continuum\\anaconda3\\lib\\site-packages\\keras\\backend\\tensorflow_backend.py:199: The name tf.is_variable_initialized is deprecated. Please use tf.compat.v1.is_variable_initialized instead.\n",
      "\n",
      "WARNING:tensorflow:From C:\\Users\\mytufail\\AppData\\Local\\Continuum\\anaconda3\\lib\\site-packages\\keras\\backend\\tensorflow_backend.py:206: The name tf.variables_initializer is deprecated. Please use tf.compat.v1.variables_initializer instead.\n",
      "\n",
      "891/891 [==============================] - 0s 452us/step - loss: 5.2746 - acc: 0.5533\n",
      "[2.87496984e-01 9.02819216e-01 9.23535109e-01 7.33060002e-01\n",
      " 1.79176271e-01 1.25736758e-01 2.88400392e-04 5.59748113e-01\n",
      " 1.65665299e-01 9.83585238e-01 2.65326411e-01 7.17397690e-01\n",
      " 1.42759636e-01 8.32597136e-01 1.49835274e-01 2.93027679e-03\n",
      " 3.81498963e-01 9.83542919e-01 5.73534286e-03 9.26113367e-01\n",
      " 9.99322414e-01 2.83727705e-01 3.58022749e-04 6.61738098e-01\n",
      " 5.88022828e-01 1.93694785e-01 9.93163764e-01 8.10248613e-01\n",
      " 2.41589010e-01 9.98842418e-01 8.55734706e-01 6.24957979e-01\n",
      " 1.30285397e-01 3.58296126e-01 5.35833120e-01 9.98061597e-01\n",
      " 4.81226087e-01 1.90207899e-01 9.93020356e-01 9.04704511e-01\n",
      " 4.65631843e-01 6.13718212e-01 9.27352607e-01 3.23897488e-02\n",
      " 5.74909508e-01 1.23549197e-02 9.90268826e-01 5.83598763e-02\n",
      " 9.67703819e-01 9.95987236e-01 7.70905375e-01 1.38206087e-05\n",
      " 9.00592744e-01 9.59288538e-01 7.09233701e-01 7.46761441e-01\n",
      " 9.99785006e-01 5.06865621e-01 9.58522797e-01 1.30285397e-01\n",
      " 2.52748340e-01 5.94954789e-01 5.72665393e-01 9.89290416e-01\n",
      " 5.66336036e-01 1.10614836e-01 6.04022563e-01 9.84099507e-01\n",
      " 2.80386329e-01 8.05857122e-01 2.65897483e-01 9.87383425e-01\n",
      " 1.31556625e-02 8.76994617e-03 8.49625826e-01 5.90769351e-01\n",
      " 5.61413050e-01 4.96192545e-01 1.81970745e-01 9.99657869e-01\n",
      " 9.40724432e-01 9.20711532e-02 5.94801307e-01 3.20938170e-01\n",
      " 2.40857705e-01 9.92121696e-01 5.14345765e-01 9.25168991e-01\n",
      " 9.49630022e-01 9.31116164e-01 1.58345178e-01]\n"
     ]
    }
   ],
   "source": [
    "# model fitting\n",
    "model.fit(predictors, target)\n",
    "\n",
    "# Calculate predictions: predictions\n",
    "predictions = model.predict(pred_data)\n",
    "\n",
    "# Calculate predicted probability of survival: predicted_prob_true\n",
    "predicted_prob_true = predictions[:,1]\n",
    "\n",
    "# print predicted_prob_true\n",
    "print(predicted_prob_true)\n"
   ]
  },
  {
   "cell_type": "markdown",
   "metadata": {},
   "source": [
    "# Conclusion:\n",
    "\n",
    "- Predicted probabilities of survival being True is obtained."
   ]
  },
  {
   "cell_type": "code",
   "execution_count": null,
   "metadata": {},
   "outputs": [],
   "source": []
  }
 ],
 "metadata": {
  "kernelspec": {
   "display_name": "Python 3",
   "language": "python",
   "name": "python3"
  },
  "language_info": {
   "codemirror_mode": {
    "name": "ipython",
    "version": 3
   },
   "file_extension": ".py",
   "mimetype": "text/x-python",
   "name": "python",
   "nbconvert_exporter": "python",
   "pygments_lexer": "ipython3",
   "version": "3.7.4"
  }
 },
 "nbformat": 4,
 "nbformat_minor": 2
}
